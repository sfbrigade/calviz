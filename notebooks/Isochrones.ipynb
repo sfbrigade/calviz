{
 "cells": [
  {
   "cell_type": "code",
   "execution_count": 13,
   "metadata": {},
   "outputs": [],
   "source": [
    "import numpy as np\n",
    "import pandas as pd\n",
    "import matplotlib.pyplot as plt"
   ]
  },
  {
   "cell_type": "code",
   "execution_count": 14,
   "metadata": {},
   "outputs": [],
   "source": [
    "df = pd.read_csv('../data/parsed_data/schedules/all_schedules_metrics_nasty.csv')"
   ]
  },
  {
   "cell_type": "code",
   "execution_count": 15,
   "metadata": {},
   "outputs": [],
   "source": [
    "#Walking speed is 84 meters per minute\n",
    "df['isochrone_circle_distance'] = 84*(60 - df['mean_journey_time']).clip(lower=0)"
   ]
  },
  {
   "cell_type": "code",
   "execution_count": 16,
   "metadata": {},
   "outputs": [
    {
     "data": {
      "text/plain": [
       "<matplotlib.axes._subplots.AxesSubplot at 0x10a6ca0f0>"
      ]
     },
     "execution_count": 16,
     "metadata": {},
     "output_type": "execute_result"
    },
    {
     "data": {
      "image/png": "[encoded data removed]",
      "text/plain": [
       "<Figure size 432x288 with 1 Axes>"
      ]
     },
     "metadata": {},
     "output_type": "display_data"
    }
   ],
   "source": [
    "df['isochrone_circle_distance'].hist(bins=50)"
   ]
  },
  {
   "cell_type": "code",
   "execution_count": 17,
   "metadata": {},
   "outputs": [],
   "source": [
    "df['scenario_no_dist'] = df['scenario'].str[:-3]"
   ]
  },
  {
   "cell_type": "code",
   "execution_count": 18,
   "metadata": {},
   "outputs": [],
   "source": [
    "df_latlon = pd.read_csv('../data/station_lat_lon_key.csv')"
   ]
  },
  {
   "cell_type": "code",
   "execution_count": 19,
   "metadata": {},
   "outputs": [],
   "source": [
    "df = df.merge(df_latlon, left_on='departure_station', right_on='nasty_station')\n",
    "df.rename({'lat':'lat_departure',\n",
    "           'lon':'lon_departure',\n",
    "           'pretty_station':'pretty_departure_station'}, axis='columns', inplace=True)\n",
    "df.drop(columns=['nasty_station'], inplace=True)"
   ]
  },
  {
   "cell_type": "code",
   "execution_count": 20,
   "metadata": {},
   "outputs": [
    {
     "data": {
      "text/html": [
       "<div>\n",
       "<style scoped>\n",
       "    .dataframe tbody tr th:only-of-type {\n",
       "        vertical-align: middle;\n",
       "    }\n",
       "\n",
       "    .dataframe tbody tr th {\n",
       "        vertical-align: top;\n",
       "    }\n",
       "\n",
       "    .dataframe thead th {\n",
       "        text-align: right;\n",
       "    }\n",
       "</style>\n",
       "<table border=\"1\" class=\"dataframe\">\n",
       "  <thead>\n",
       "    <tr style=\"text-align: right;\">\n",
       "      <th></th>\n",
       "      <th>scenario</th>\n",
       "      <th>departure_station</th>\n",
       "      <th>arrival_station</th>\n",
       "      <th>departure_hour</th>\n",
       "      <th>count_journey_time</th>\n",
       "      <th>mean_journey_time</th>\n",
       "      <th>min_journey_time</th>\n",
       "      <th>max_journey_time</th>\n",
       "      <th>count_wait_time</th>\n",
       "      <th>mean_wait_time</th>\n",
       "      <th>min_wait_time</th>\n",
       "      <th>max_wait_time</th>\n",
       "      <th>isochrone_circle_distance</th>\n",
       "      <th>scenario_no_dist</th>\n",
       "      <th>pretty_departure_station</th>\n",
       "      <th>lat_departure</th>\n",
       "      <th>lon_departure</th>\n",
       "      <th>SB_order</th>\n",
       "      <th>NB_order</th>\n",
       "    </tr>\n",
       "  </thead>\n",
       "  <tbody>\n",
       "    <tr>\n",
       "      <th>0</th>\n",
       "      <td>Baseline NB</td>\n",
       "      <td>22nd STREET</td>\n",
       "      <td>SALESFORCE TRANSIT CENTER (STC) $</td>\n",
       "      <td>6</td>\n",
       "      <td>3</td>\n",
       "      <td>8.666667</td>\n",
       "      <td>8</td>\n",
       "      <td>9</td>\n",
       "      <td>60</td>\n",
       "      <td>10.5</td>\n",
       "      <td>0.0</td>\n",
       "      <td>25.0</td>\n",
       "      <td>4312.0</td>\n",
       "      <td>Baseline</td>\n",
       "      <td>22nd St</td>\n",
       "      <td>37.757576</td>\n",
       "      <td>-122.392412</td>\n",
       "      <td>2</td>\n",
       "      <td>29</td>\n",
       "    </tr>\n",
       "    <tr>\n",
       "      <th>1</th>\n",
       "      <td>Baseline NB</td>\n",
       "      <td>22nd STREET</td>\n",
       "      <td>SALESFORCE TRANSIT CENTER (STC) $</td>\n",
       "      <td>7</td>\n",
       "      <td>4</td>\n",
       "      <td>8.500000</td>\n",
       "      <td>8</td>\n",
       "      <td>9</td>\n",
       "      <td>60</td>\n",
       "      <td>9.7</td>\n",
       "      <td>0.0</td>\n",
       "      <td>23.0</td>\n",
       "      <td>4326.0</td>\n",
       "      <td>Baseline</td>\n",
       "      <td>22nd St</td>\n",
       "      <td>37.757576</td>\n",
       "      <td>-122.392412</td>\n",
       "      <td>2</td>\n",
       "      <td>29</td>\n",
       "    </tr>\n",
       "    <tr>\n",
       "      <th>2</th>\n",
       "      <td>Baseline NB</td>\n",
       "      <td>22nd STREET</td>\n",
       "      <td>SALESFORCE TRANSIT CENTER (STC) $</td>\n",
       "      <td>8</td>\n",
       "      <td>4</td>\n",
       "      <td>8.500000</td>\n",
       "      <td>8</td>\n",
       "      <td>9</td>\n",
       "      <td>60</td>\n",
       "      <td>9.7</td>\n",
       "      <td>0.0</td>\n",
       "      <td>23.0</td>\n",
       "      <td>4326.0</td>\n",
       "      <td>Baseline</td>\n",
       "      <td>22nd St</td>\n",
       "      <td>37.757576</td>\n",
       "      <td>-122.392412</td>\n",
       "      <td>2</td>\n",
       "      <td>29</td>\n",
       "    </tr>\n",
       "    <tr>\n",
       "      <th>3</th>\n",
       "      <td>Baseline NB</td>\n",
       "      <td>22nd STREET</td>\n",
       "      <td>SALESFORCE TRANSIT CENTER (STC) $</td>\n",
       "      <td>9</td>\n",
       "      <td>4</td>\n",
       "      <td>8.500000</td>\n",
       "      <td>8</td>\n",
       "      <td>9</td>\n",
       "      <td>60</td>\n",
       "      <td>9.7</td>\n",
       "      <td>0.0</td>\n",
       "      <td>23.0</td>\n",
       "      <td>4326.0</td>\n",
       "      <td>Baseline</td>\n",
       "      <td>22nd St</td>\n",
       "      <td>37.757576</td>\n",
       "      <td>-122.392412</td>\n",
       "      <td>2</td>\n",
       "      <td>29</td>\n",
       "    </tr>\n",
       "    <tr>\n",
       "      <th>4</th>\n",
       "      <td>Baseline NB</td>\n",
       "      <td>22nd STREET</td>\n",
       "      <td>SALESFORCE TRANSIT CENTER (STC) $</td>\n",
       "      <td>10</td>\n",
       "      <td>4</td>\n",
       "      <td>8.500000</td>\n",
       "      <td>8</td>\n",
       "      <td>9</td>\n",
       "      <td>60</td>\n",
       "      <td>9.7</td>\n",
       "      <td>0.0</td>\n",
       "      <td>23.0</td>\n",
       "      <td>4326.0</td>\n",
       "      <td>Baseline</td>\n",
       "      <td>22nd St</td>\n",
       "      <td>37.757576</td>\n",
       "      <td>-122.392412</td>\n",
       "      <td>2</td>\n",
       "      <td>29</td>\n",
       "    </tr>\n",
       "  </tbody>\n",
       "</table>\n",
       "</div>"
      ],
      "text/plain": [
       "      scenario departure_station                    arrival_station  \\\n",
       "0  Baseline NB       22nd STREET  SALESFORCE TRANSIT CENTER (STC) $   \n",
       "1  Baseline NB       22nd STREET  SALESFORCE TRANSIT CENTER (STC) $   \n",
       "2  Baseline NB       22nd STREET  SALESFORCE TRANSIT CENTER (STC) $   \n",
       "3  Baseline NB       22nd STREET  SALESFORCE TRANSIT CENTER (STC) $   \n",
       "4  Baseline NB       22nd STREET  SALESFORCE TRANSIT CENTER (STC) $   \n",
       "\n",
       "   departure_hour  count_journey_time  mean_journey_time  min_journey_time  \\\n",
       "0               6                   3           8.666667                 8   \n",
       "1               7                   4           8.500000                 8   \n",
       "2               8                   4           8.500000                 8   \n",
       "3               9                   4           8.500000                 8   \n",
       "4              10                   4           8.500000                 8   \n",
       "\n",
       "   max_journey_time  count_wait_time  mean_wait_time  min_wait_time  \\\n",
       "0                 9               60            10.5            0.0   \n",
       "1                 9               60             9.7            0.0   \n",
       "2                 9               60             9.7            0.0   \n",
       "3                 9               60             9.7            0.0   \n",
       "4                 9               60             9.7            0.0   \n",
       "\n",
       "   max_wait_time  isochrone_circle_distance scenario_no_dist  \\\n",
       "0           25.0                     4312.0         Baseline   \n",
       "1           23.0                     4326.0         Baseline   \n",
       "2           23.0                     4326.0         Baseline   \n",
       "3           23.0                     4326.0         Baseline   \n",
       "4           23.0                     4326.0         Baseline   \n",
       "\n",
       "  pretty_departure_station  lat_departure  lon_departure  SB_order  NB_order  \n",
       "0                  22nd St      37.757576    -122.392412         2        29  \n",
       "1                  22nd St      37.757576    -122.392412         2        29  \n",
       "2                  22nd St      37.757576    -122.392412         2        29  \n",
       "3                  22nd St      37.757576    -122.392412         2        29  \n",
       "4                  22nd St      37.757576    -122.392412         2        29  "
      ]
     },
     "execution_count": 20,
     "metadata": {},
     "output_type": "execute_result"
    }
   ],
   "source": [
    "df.head()"
   ]
  },
  {
   "cell_type": "code",
   "execution_count": 21,
   "metadata": {},
   "outputs": [],
   "source": [
    "df = df.merge(df_latlon, left_on='arrival_station', right_on='nasty_station')\n",
    "df.rename({'lat':'lat_arrival',\n",
    "           'lon':'lon_arrival',\n",
    "           'pretty_station':'pretty_arrival_station'}, axis='columns', inplace=True)\n",
    "df.drop(columns=['nasty_station'], inplace=True)"
   ]
  },
  {
   "cell_type": "code",
   "execution_count": 25,
   "metadata": {},
   "outputs": [],
   "source": [
    "df['scenario_no_dist'] = df['scenario_no_dist'].str.title()"
   ]
  },
  {
   "cell_type": "code",
   "execution_count": 26,
   "metadata": {},
   "outputs": [
    {
     "data": {
      "text/plain": [
       "array(['Baseline', 'High', 'Moderate'], dtype=object)"
      ]
     },
     "execution_count": 26,
     "metadata": {},
     "output_type": "execute_result"
    }
   ],
   "source": [
    "df['scenario_no_dist'].unique()"
   ]
  },
  {
   "cell_type": "code",
   "execution_count": 27,
   "metadata": {},
   "outputs": [],
   "source": [
    "df.to_csv('../data/parsed_data/schedules/all_schedules_metrics_final.csv', index=False)"
   ]
  },
  {
   "cell_type": "code",
   "execution_count": null,
   "metadata": {},
   "outputs": [],
   "source": []
  }
 ],
 "metadata": {
  "kernelspec": {
   "display_name": "Python 3",
   "language": "python",
   "name": "python3"
  },
  "language_info": {
   "codemirror_mode": {
    "name": "ipython",
    "version": 3
   },
   "file_extension": ".py",
   "mimetype": "text/x-python",
   "name": "python",
   "nbconvert_exporter": "python",
   "pygments_lexer": "ipython3",
   "version": "3.6.5"
  }
 },
 "nbformat": 4,
 "nbformat_minor": 2
}
