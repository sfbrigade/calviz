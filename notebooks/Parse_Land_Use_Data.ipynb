{
 "cells": [
  {
   "cell_type": "code",
   "execution_count": 1,
   "metadata": {},
   "outputs": [],
   "source": [
    "import pandas as pd"
   ]
  },
  {
   "cell_type": "code",
   "execution_count": 5,
   "metadata": {},
   "outputs": [],
   "source": [
    "df = pd.read_csv(\"LandUseForecasts.csv\")"
   ]
  },
  {
   "cell_type": "code",
   "execution_count": 11,
   "metadata": {},
   "outputs": [
    {
     "data": {
      "text/html": [
       "<div>\n",
       "<style scoped>\n",
       "    .dataframe tbody tr th:only-of-type {\n",
       "        vertical-align: middle;\n",
       "    }\n",
       "\n",
       "    .dataframe tbody tr th {\n",
       "        vertical-align: top;\n",
       "    }\n",
       "\n",
       "    .dataframe thead th {\n",
       "        text-align: right;\n",
       "    }\n",
       "</style>\n",
       "<table border=\"1\" class=\"dataframe\">\n",
       "  <thead>\n",
       "    <tr style=\"text-align: right;\">\n",
       "      <th></th>\n",
       "      <th>Station</th>\n",
       "      <th>Population1/2mi2016</th>\n",
       "      <th>Employment1/2mi2016</th>\n",
       "      <th>Total1/2mi2016</th>\n",
       "      <th>Population1/2mi2040</th>\n",
       "      <th>Employment1/2mi2040</th>\n",
       "      <th>Total1/2mi2040</th>\n",
       "      <th>Population2mi2016</th>\n",
       "      <th>Employment2mi2016</th>\n",
       "      <th>Total2mi2016</th>\n",
       "      <th>Population2mi2040</th>\n",
       "      <th>Employment2mi2040</th>\n",
       "      <th>Total2mi2040</th>\n",
       "    </tr>\n",
       "  </thead>\n",
       "  <tbody>\n",
       "    <tr>\n",
       "      <th>0</th>\n",
       "      <td>Transbay</td>\n",
       "      <td>\\t10,418</td>\n",
       "      <td>\\t225,227</td>\n",
       "      <td>\\t235,645</td>\n",
       "      <td>\\t24,608</td>\n",
       "      <td>\\t229,725</td>\n",
       "      <td>\\t254,333</td>\n",
       "      <td>\\t149,819</td>\n",
       "      <td>\\t361,278</td>\n",
       "      <td>\\t511,097</td>\n",
       "      <td>\\t211,565</td>\n",
       "      <td>\\t383,324</td>\n",
       "      <td>\\t594,889</td>\n",
       "    </tr>\n",
       "    <tr>\n",
       "      <th>1</th>\n",
       "      <td>4th and King</td>\n",
       "      <td>\\t10,169</td>\n",
       "      <td>\\t30,367</td>\n",
       "      <td>\\t40,536</td>\n",
       "      <td>\\t31,967</td>\n",
       "      <td>\\t66,370</td>\n",
       "      <td>\\t98,337</td>\n",
       "      <td>\\t54,840</td>\n",
       "      <td>\\t138,340</td>\n",
       "      <td>\\t193,180</td>\n",
       "      <td>\\t98,519</td>\n",
       "      <td>\\t161,547</td>\n",
       "      <td>\\t260,066</td>\n",
       "    </tr>\n",
       "    <tr>\n",
       "      <th>2</th>\n",
       "      <td>22nd St</td>\n",
       "      <td>\\t8,271</td>\n",
       "      <td>\\t7,755</td>\n",
       "      <td>\\t16,026</td>\n",
       "      <td>\\t13,048</td>\n",
       "      <td>\\t9,792</td>\n",
       "      <td>\\t22,840</td>\n",
       "      <td>\\t104,383</td>\n",
       "      <td>\\t56,398</td>\n",
       "      <td>\\t160,781</td>\n",
       "      <td>\\t142,674</td>\n",
       "      <td>\\t80,870</td>\n",
       "      <td>\\t223,544</td>\n",
       "    </tr>\n",
       "    <tr>\n",
       "      <th>3</th>\n",
       "      <td>Bayshore</td>\n",
       "      <td>\\t6,988</td>\n",
       "      <td>\\t1,559</td>\n",
       "      <td>\\t8,546</td>\n",
       "      <td>\\t18,413</td>\n",
       "      <td>\\t2,524</td>\n",
       "      <td>\\t20,938</td>\n",
       "      <td>\\t89,355</td>\n",
       "      <td>\\t18,499</td>\n",
       "      <td>\\t107,854</td>\n",
       "      <td>\\t139,924</td>\n",
       "      <td>\\t25,218</td>\n",
       "      <td>\\t165,142</td>\n",
       "    </tr>\n",
       "    <tr>\n",
       "      <th>4</th>\n",
       "      <td>South San Francisco</td>\n",
       "      <td>\\t5,466</td>\n",
       "      <td>\\t8,232</td>\n",
       "      <td>\\t13,698</td>\n",
       "      <td>\\t9,030</td>\n",
       "      <td>\\t14,846</td>\n",
       "      <td>\\t23,876</td>\n",
       "      <td>\\t36,345</td>\n",
       "      <td>\\t42,800</td>\n",
       "      <td>\\t79,144</td>\n",
       "      <td>\\t54,161</td>\n",
       "      <td>\\t64,380</td>\n",
       "      <td>\\t118,541</td>\n",
       "    </tr>\n",
       "  </tbody>\n",
       "</table>\n",
       "</div>"
      ],
      "text/plain": [
       "               Station Population1/2mi2016 Employment1/2mi2016 Total1/2mi2016  \\\n",
       "0             Transbay           \\t10,418           \\t225,227      \\t235,645    \n",
       "1         4th and King           \\t10,169            \\t30,367       \\t40,536    \n",
       "2              22nd St            \\t8,271             \\t7,755       \\t16,026    \n",
       "3             Bayshore            \\t6,988             \\t1,559        \\t8,546    \n",
       "4  South San Francisco            \\t5,466             \\t8,232       \\t13,698    \n",
       "\n",
       "  Population1/2mi2040 Employment1/2mi2040 Total1/2mi2040 Population2mi2016  \\\n",
       "0           \\t24,608           \\t229,725      \\t254,333         \\t149,819    \n",
       "1           \\t31,967            \\t66,370       \\t98,337          \\t54,840    \n",
       "2           \\t13,048             \\t9,792       \\t22,840         \\t104,383    \n",
       "3           \\t18,413             \\t2,524       \\t20,938          \\t89,355    \n",
       "4            \\t9,030            \\t14,846       \\t23,876          \\t36,345    \n",
       "\n",
       "  Employment2mi2016 Total2mi2016 Population2mi2040 Employment2mi2040  \\\n",
       "0        \\t361,278    \\t511,097         \\t211,565         \\t383,324    \n",
       "1        \\t138,340    \\t193,180          \\t98,519         \\t161,547    \n",
       "2         \\t56,398    \\t160,781         \\t142,674          \\t80,870    \n",
       "3         \\t18,499    \\t107,854         \\t139,924          \\t25,218    \n",
       "4         \\t42,800     \\t79,144          \\t54,161          \\t64,380    \n",
       "\n",
       "  Total2mi2040  \n",
       "0   \\t594,889   \n",
       "1   \\t260,066   \n",
       "2   \\t223,544   \n",
       "3   \\t165,142   \n",
       "4   \\t118,541   "
      ]
     },
     "execution_count": 11,
     "metadata": {},
     "output_type": "execute_result"
    }
   ],
   "source": [
    "df.head()"
   ]
  },
  {
   "cell_type": "markdown",
   "metadata": {},
   "source": [
    "Parse out the tabs, then to numeric"
   ]
  },
  {
   "cell_type": "code",
   "execution_count": 46,
   "metadata": {},
   "outputs": [],
   "source": [
    "original_columns = list(df.columns)"
   ]
  },
  {
   "cell_type": "code",
   "execution_count": 78,
   "metadata": {},
   "outputs": [],
   "source": [
    "# parse blank spaces and tabs out of data\n",
    "\n",
    "# create temporary names for original columns so they can be dropped\n",
    "for col in df.columns[1:]:\n",
    "    df[col].rename(col+\"_\")\n",
    "\n",
    "data = df\n",
    "\n",
    "# the parsing happend here\n",
    "for col in original_columns[1:]:\n",
    "#     print(data[col])\n",
    "    data = pd.concat([data, data[col].str.split(\"\\t\", expand=True)[1].str.replace(\",\",\"\").rename(col[:-1])], axis=1)\n",
    "    data.drop(col, axis=1, inplace=True)"
   ]
  },
  {
   "cell_type": "code",
   "execution_count": 79,
   "metadata": {},
   "outputs": [],
   "source": [
    "# convert to integer\n",
    "for col in data.columns[1:]:\n",
    "    data[col] = pd.to_numeric(data[col])"
   ]
  },
  {
   "cell_type": "code",
   "execution_count": 80,
   "metadata": {},
   "outputs": [
    {
     "name": "stdout",
     "output_type": "stream",
     "text": [
      "<class 'pandas.core.frame.DataFrame'>\n",
      "RangeIndex: 32 entries, 0 to 31\n",
      "Data columns (total 13 columns):\n",
      "Station               32 non-null object\n",
      "Population1/2mi201    32 non-null int64\n",
      "Employment1/2mi201    32 non-null int64\n",
      "Total1/2mi201         32 non-null int64\n",
      "Population1/2mi204    32 non-null int64\n",
      "Employment1/2mi204    32 non-null int64\n",
      "Total1/2mi204         32 non-null int64\n",
      "Population2mi201      32 non-null int64\n",
      "Employment2mi201      32 non-null int64\n",
      "Total2mi201           32 non-null int64\n",
      "Population2mi204      32 non-null int64\n",
      "Employment2mi204      32 non-null int64\n",
      "Total2mi204           32 non-null int64\n",
      "dtypes: int64(12), object(1)\n",
      "memory usage: 3.3+ KB\n"
     ]
    }
   ],
   "source": [
    "data.info()"
   ]
  },
  {
   "cell_type": "code",
   "execution_count": 81,
   "metadata": {},
   "outputs": [],
   "source": [
    "data.to_csv(\"parsed_data/Land_Use_Forecasts.csv\", index=False)"
   ]
  },
  {
   "cell_type": "code",
   "execution_count": null,
   "metadata": {},
   "outputs": [],
   "source": []
  }
 ],
 "metadata": {
  "kernelspec": {
   "display_name": "Python 3",
   "language": "python",
   "name": "python3"
  },
  "language_info": {
   "codemirror_mode": {
    "name": "ipython",
    "version": 3
   },
   "file_extension": ".py",
   "mimetype": "text/x-python",
   "name": "python",
   "nbconvert_exporter": "python",
   "pygments_lexer": "ipython3",
   "version": "3.6.8"
  }
 },
 "nbformat": 4,
 "nbformat_minor": 2
}
