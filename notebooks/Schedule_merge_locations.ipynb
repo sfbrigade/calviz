{
 "cells": [
  {
   "cell_type": "code",
   "execution_count": 77,
   "metadata": {},
   "outputs": [],
   "source": [
    "import pandas as pd"
   ]
  },
  {
   "cell_type": "code",
   "execution_count": 134,
   "metadata": {},
   "outputs": [],
   "source": [
    "data = pd.read_csv(\"../data/parsed_data/schedules/all_schedules_metrics.csv\")"
   ]
  },
  {
   "cell_type": "code",
   "execution_count": 114,
   "metadata": {},
   "outputs": [],
   "source": [
    "locs = pd.read_csv(\"../data/station_locs.csv\")"
   ]
  },
  {
   "cell_type": "code",
   "execution_count": 115,
   "metadata": {},
   "outputs": [],
   "source": [
    "locs = locs.set_index(\"ZNAME\")"
   ]
  },
  {
   "cell_type": "code",
   "execution_count": 116,
   "metadata": {},
   "outputs": [],
   "source": [
    "locs = locs[['lat', 'lon']]"
   ]
  },
  {
   "cell_type": "code",
   "execution_count": 136,
   "metadata": {},
   "outputs": [],
   "source": [
    "data[\"arrival_station\"] = (data[\"arrival_station\"].str.split(\"(\").str[0]\n",
    "    .str.strip()\n",
    "    .str.replace('SALESFORCE TRANSIT CENTER', 'Transbay')\n",
    "    .str.title()\n",
    "    .str.replace('Townsend / 4Th And King \\$', '4th and King')\n",
    "    .str.replace('22Nd Street', '22nd St')\n",
    "    .str.replace('San Jose Diridon', 'San Jose'))"
   ]
  },
  {
   "cell_type": "code",
   "execution_count": 137,
   "metadata": {},
   "outputs": [],
   "source": [
    "data[\"departure_station\"] = (data[\"departure_station\"].str.split(\"(\").str[0]\n",
    "    .str.strip()\n",
    "    .str.replace('SALESFORCE TRANSIT CENTER', 'Transbay')\n",
    "    .str.title()\n",
    "    .str.replace('Townsend / 4Th And King \\$', '4th and King')\n",
    "    .str.replace('22Nd Street', '22nd St')\n",
    "    .str.replace('San Jose Diridon', 'San Jose'))"
   ]
  },
  {
   "cell_type": "code",
   "execution_count": 138,
   "metadata": {},
   "outputs": [
    {
     "data": {
      "text/plain": [
       "['22nd St',\n",
       " '4th and King',\n",
       " 'Atherton',\n",
       " 'Bayshore',\n",
       " 'Belmont',\n",
       " 'Blossom Hill',\n",
       " 'Broadway',\n",
       " 'Burlingame',\n",
       " 'California Avenue',\n",
       " 'Capitol',\n",
       " 'Gilroy',\n",
       " 'Hayward Park',\n",
       " 'Hillsdale',\n",
       " 'Lawrence',\n",
       " 'Menlo Park',\n",
       " 'Millbrae',\n",
       " 'Morgan Hill',\n",
       " 'Mountain View',\n",
       " 'Palo Alto',\n",
       " 'Redwood City',\n",
       " 'San Antonio',\n",
       " 'San Bruno',\n",
       " 'San Carlos',\n",
       " 'San Jose',\n",
       " 'San Mateo',\n",
       " 'Santa Clara',\n",
       " 'South San Francisco',\n",
       " 'Sunnyvale',\n",
       " 'Tamien',\n",
       " 'Transbay']"
      ]
     },
     "execution_count": 138,
     "metadata": {},
     "output_type": "execute_result"
    }
   ],
   "source": [
    "sorted(data.departure_station.unique())"
   ]
  },
  {
   "cell_type": "code",
   "execution_count": 139,
   "metadata": {},
   "outputs": [
    {
     "data": {
      "text/plain": [
       "['22nd St',\n",
       " '4th and King',\n",
       " 'Atherton',\n",
       " 'Bayshore',\n",
       " 'Belmont',\n",
       " 'Blossom Hill',\n",
       " 'Broadway',\n",
       " 'Burlingame',\n",
       " 'California Ave',\n",
       " 'Capitol',\n",
       " 'College Park',\n",
       " 'Gilroy',\n",
       " 'Hayward Park',\n",
       " 'Hillsdale',\n",
       " 'Lawrence',\n",
       " 'Menlo Park',\n",
       " 'Millbrae',\n",
       " 'Morgan Hill',\n",
       " 'Mountain View',\n",
       " 'Palo Alto',\n",
       " 'Redwood City',\n",
       " 'San Antonio',\n",
       " 'San Bruno',\n",
       " 'San Carlos',\n",
       " 'San Jose Diridon',\n",
       " 'San Martin',\n",
       " 'San Mateo',\n",
       " 'Santa Clara',\n",
       " 'South San Francisco',\n",
       " 'Sunnyvale',\n",
       " 'Tamien',\n",
       " 'Transbay']"
      ]
     },
     "execution_count": 139,
     "metadata": {},
     "output_type": "execute_result"
    }
   ],
   "source": [
    "sorted(locs.index.unique())"
   ]
  },
  {
   "cell_type": "code",
   "execution_count": 66,
   "metadata": {},
   "outputs": [],
   "source": []
  },
  {
   "cell_type": "code",
   "execution_count": 140,
   "metadata": {},
   "outputs": [],
   "source": [
    "data_join = data.join(locs, on=\"departure_station\", rsuffix=\"departure\")"
   ]
  },
  {
   "cell_type": "code",
   "execution_count": 141,
   "metadata": {},
   "outputs": [],
   "source": [
    "data_join = data_join.join(locs, on=\"arrival_station\", rsuffix=\"_arrival\")"
   ]
  },
  {
   "cell_type": "code",
   "execution_count": 142,
   "metadata": {},
   "outputs": [
    {
     "data": {
      "text/html": [
       "<div>\n",
       "<style scoped>\n",
       "    .dataframe tbody tr th:only-of-type {\n",
       "        vertical-align: middle;\n",
       "    }\n",
       "\n",
       "    .dataframe tbody tr th {\n",
       "        vertical-align: top;\n",
       "    }\n",
       "\n",
       "    .dataframe thead th {\n",
       "        text-align: right;\n",
       "    }\n",
       "</style>\n",
       "<table border=\"1\" class=\"dataframe\">\n",
       "  <thead>\n",
       "    <tr style=\"text-align: right;\">\n",
       "      <th></th>\n",
       "      <th>scenario</th>\n",
       "      <th>departure_station</th>\n",
       "      <th>arrival_station</th>\n",
       "      <th>departure_hour</th>\n",
       "      <th>count_journey_time</th>\n",
       "      <th>mean_journey_time</th>\n",
       "      <th>min_journey_time</th>\n",
       "      <th>max_journey_time</th>\n",
       "      <th>count_wait_time</th>\n",
       "      <th>mean_wait_time</th>\n",
       "      <th>min_wait_time</th>\n",
       "      <th>max_wait_time</th>\n",
       "      <th>isochrone_circle_distance</th>\n",
       "      <th>lat</th>\n",
       "      <th>lon</th>\n",
       "      <th>lat_arrival</th>\n",
       "      <th>lon_arrival</th>\n",
       "    </tr>\n",
       "  </thead>\n",
       "  <tbody>\n",
       "    <tr>\n",
       "      <th>0</th>\n",
       "      <td>Baseline NB</td>\n",
       "      <td>22nd St</td>\n",
       "      <td>Transbay</td>\n",
       "      <td>6</td>\n",
       "      <td>3</td>\n",
       "      <td>8.666667</td>\n",
       "      <td>8</td>\n",
       "      <td>9</td>\n",
       "      <td>60</td>\n",
       "      <td>10.5</td>\n",
       "      <td>0.0</td>\n",
       "      <td>25.0</td>\n",
       "      <td>4312.0</td>\n",
       "      <td>37.757576</td>\n",
       "      <td>-122.392412</td>\n",
       "      <td>37.789052</td>\n",
       "      <td>-122.397024</td>\n",
       "    </tr>\n",
       "    <tr>\n",
       "      <th>1</th>\n",
       "      <td>Baseline NB</td>\n",
       "      <td>22nd St</td>\n",
       "      <td>Transbay</td>\n",
       "      <td>7</td>\n",
       "      <td>4</td>\n",
       "      <td>8.500000</td>\n",
       "      <td>8</td>\n",
       "      <td>9</td>\n",
       "      <td>60</td>\n",
       "      <td>9.7</td>\n",
       "      <td>0.0</td>\n",
       "      <td>23.0</td>\n",
       "      <td>4326.0</td>\n",
       "      <td>37.757576</td>\n",
       "      <td>-122.392412</td>\n",
       "      <td>37.789052</td>\n",
       "      <td>-122.397024</td>\n",
       "    </tr>\n",
       "    <tr>\n",
       "      <th>2</th>\n",
       "      <td>Baseline NB</td>\n",
       "      <td>22nd St</td>\n",
       "      <td>Transbay</td>\n",
       "      <td>8</td>\n",
       "      <td>4</td>\n",
       "      <td>8.500000</td>\n",
       "      <td>8</td>\n",
       "      <td>9</td>\n",
       "      <td>60</td>\n",
       "      <td>9.7</td>\n",
       "      <td>0.0</td>\n",
       "      <td>23.0</td>\n",
       "      <td>4326.0</td>\n",
       "      <td>37.757576</td>\n",
       "      <td>-122.392412</td>\n",
       "      <td>37.789052</td>\n",
       "      <td>-122.397024</td>\n",
       "    </tr>\n",
       "    <tr>\n",
       "      <th>3</th>\n",
       "      <td>Baseline NB</td>\n",
       "      <td>22nd St</td>\n",
       "      <td>Transbay</td>\n",
       "      <td>9</td>\n",
       "      <td>4</td>\n",
       "      <td>8.500000</td>\n",
       "      <td>8</td>\n",
       "      <td>9</td>\n",
       "      <td>60</td>\n",
       "      <td>9.7</td>\n",
       "      <td>0.0</td>\n",
       "      <td>23.0</td>\n",
       "      <td>4326.0</td>\n",
       "      <td>37.757576</td>\n",
       "      <td>-122.392412</td>\n",
       "      <td>37.789052</td>\n",
       "      <td>-122.397024</td>\n",
       "    </tr>\n",
       "    <tr>\n",
       "      <th>4</th>\n",
       "      <td>Baseline NB</td>\n",
       "      <td>22nd St</td>\n",
       "      <td>Transbay</td>\n",
       "      <td>10</td>\n",
       "      <td>4</td>\n",
       "      <td>8.500000</td>\n",
       "      <td>8</td>\n",
       "      <td>9</td>\n",
       "      <td>60</td>\n",
       "      <td>9.7</td>\n",
       "      <td>0.0</td>\n",
       "      <td>23.0</td>\n",
       "      <td>4326.0</td>\n",
       "      <td>37.757576</td>\n",
       "      <td>-122.392412</td>\n",
       "      <td>37.789052</td>\n",
       "      <td>-122.397024</td>\n",
       "    </tr>\n",
       "  </tbody>\n",
       "</table>\n",
       "</div>"
      ],
      "text/plain": [
       "      scenario departure_station arrival_station  departure_hour  \\\n",
       "0  Baseline NB           22nd St        Transbay               6   \n",
       "1  Baseline NB           22nd St        Transbay               7   \n",
       "2  Baseline NB           22nd St        Transbay               8   \n",
       "3  Baseline NB           22nd St        Transbay               9   \n",
       "4  Baseline NB           22nd St        Transbay              10   \n",
       "\n",
       "   count_journey_time  mean_journey_time  min_journey_time  max_journey_time  \\\n",
       "0                   3           8.666667                 8                 9   \n",
       "1                   4           8.500000                 8                 9   \n",
       "2                   4           8.500000                 8                 9   \n",
       "3                   4           8.500000                 8                 9   \n",
       "4                   4           8.500000                 8                 9   \n",
       "\n",
       "   count_wait_time  mean_wait_time  min_wait_time  max_wait_time  \\\n",
       "0               60            10.5            0.0           25.0   \n",
       "1               60             9.7            0.0           23.0   \n",
       "2               60             9.7            0.0           23.0   \n",
       "3               60             9.7            0.0           23.0   \n",
       "4               60             9.7            0.0           23.0   \n",
       "\n",
       "   isochrone_circle_distance        lat         lon  lat_arrival  lon_arrival  \n",
       "0                     4312.0  37.757576 -122.392412    37.789052  -122.397024  \n",
       "1                     4326.0  37.757576 -122.392412    37.789052  -122.397024  \n",
       "2                     4326.0  37.757576 -122.392412    37.789052  -122.397024  \n",
       "3                     4326.0  37.757576 -122.392412    37.789052  -122.397024  \n",
       "4                     4326.0  37.757576 -122.392412    37.789052  -122.397024  "
      ]
     },
     "execution_count": 142,
     "metadata": {},
     "output_type": "execute_result"
    }
   ],
   "source": [
    "data_join.head()"
   ]
  },
  {
   "cell_type": "code",
   "execution_count": 143,
   "metadata": {},
   "outputs": [],
   "source": [
    "data_join = data_join.rename({'lat':'lat_departure', 'lon':'lon_departure'}, axis='columns')"
   ]
  },
  {
   "cell_type": "code",
   "execution_count": null,
   "metadata": {},
   "outputs": [],
   "source": [
    "data_join.to_csv(\"../data/parsed_data/schedules/all_schedules_metrics.csv\", i)"
   ]
  }
 ],
 "metadata": {
  "kernelspec": {
   "display_name": "Python 3",
   "language": "python",
   "name": "python3"
  },
  "language_info": {
   "codemirror_mode": {
    "name": "ipython",
    "version": 3
   },
   "file_extension": ".py",
   "mimetype": "text/x-python",
   "name": "python",
   "nbconvert_exporter": "python",
   "pygments_lexer": "ipython3",
   "version": "3.6.6"
  }
 },
 "nbformat": 4,
 "nbformat_minor": 2
}
