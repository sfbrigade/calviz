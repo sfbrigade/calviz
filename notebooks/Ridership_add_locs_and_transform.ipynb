{
 "cells": [
  {
   "cell_type": "code",
   "execution_count": 1,
   "metadata": {},
   "outputs": [],
   "source": [
    "import pandas as pd"
   ]
  },
  {
   "cell_type": "code",
   "execution_count": 2,
   "metadata": {},
   "outputs": [],
   "source": [
    "riders = pd.read_csv(\"../data/Ridership/ridership.csv\")"
   ]
  },
  {
   "cell_type": "code",
   "execution_count": 3,
   "metadata": {},
   "outputs": [
    {
     "data": {
      "text/html": [
       "<div>\n",
       "<style scoped>\n",
       "    .dataframe tbody tr th:only-of-type {\n",
       "        vertical-align: middle;\n",
       "    }\n",
       "\n",
       "    .dataframe tbody tr th {\n",
       "        vertical-align: top;\n",
       "    }\n",
       "\n",
       "    .dataframe thead th {\n",
       "        text-align: right;\n",
       "    }\n",
       "</style>\n",
       "<table border=\"1\" class=\"dataframe\">\n",
       "  <thead>\n",
       "    <tr style=\"text-align: right;\">\n",
       "      <th></th>\n",
       "      <th>TOD</th>\n",
       "      <th>Origin_ID</th>\n",
       "      <th>Origin_Name</th>\n",
       "      <th>Dest_ID</th>\n",
       "      <th>Dest_Name</th>\n",
       "      <th>Scenario</th>\n",
       "      <th>Ridership_Number</th>\n",
       "    </tr>\n",
       "  </thead>\n",
       "  <tbody>\n",
       "    <tr>\n",
       "      <th>0</th>\n",
       "      <td>ea</td>\n",
       "      <td>1</td>\n",
       "      <td>Transbay</td>\n",
       "      <td>1</td>\n",
       "      <td>Transbay</td>\n",
       "      <td>Ridership_2017_observed</td>\n",
       "      <td>0</td>\n",
       "    </tr>\n",
       "    <tr>\n",
       "      <th>1</th>\n",
       "      <td>ea</td>\n",
       "      <td>1</td>\n",
       "      <td>Transbay</td>\n",
       "      <td>1</td>\n",
       "      <td>Transbay</td>\n",
       "      <td>Ridership_2022_diesel</td>\n",
       "      <td>0</td>\n",
       "    </tr>\n",
       "    <tr>\n",
       "      <th>2</th>\n",
       "      <td>ea</td>\n",
       "      <td>1</td>\n",
       "      <td>Transbay</td>\n",
       "      <td>1</td>\n",
       "      <td>Transbay</td>\n",
       "      <td>Ridership_2022_PCEP</td>\n",
       "      <td>0</td>\n",
       "    </tr>\n",
       "    <tr>\n",
       "      <th>3</th>\n",
       "      <td>ea</td>\n",
       "      <td>1</td>\n",
       "      <td>Transbay</td>\n",
       "      <td>1</td>\n",
       "      <td>Transbay</td>\n",
       "      <td>Ridership_2029_PCEP_noTransbay</td>\n",
       "      <td>0</td>\n",
       "    </tr>\n",
       "    <tr>\n",
       "      <th>4</th>\n",
       "      <td>ea</td>\n",
       "      <td>1</td>\n",
       "      <td>Transbay</td>\n",
       "      <td>1</td>\n",
       "      <td>Transbay</td>\n",
       "      <td>Ridership_2029_PCEP</td>\n",
       "      <td>0</td>\n",
       "    </tr>\n",
       "  </tbody>\n",
       "</table>\n",
       "</div>"
      ],
      "text/plain": [
       "  TOD  Origin_ID Origin_Name  Dest_ID Dest_Name  \\\n",
       "0  ea          1    Transbay        1  Transbay   \n",
       "1  ea          1    Transbay        1  Transbay   \n",
       "2  ea          1    Transbay        1  Transbay   \n",
       "3  ea          1    Transbay        1  Transbay   \n",
       "4  ea          1    Transbay        1  Transbay   \n",
       "\n",
       "                         Scenario Ridership_Number  \n",
       "0         Ridership_2017_observed                0  \n",
       "1           Ridership_2022_diesel                0  \n",
       "2             Ridership_2022_PCEP                0  \n",
       "3  Ridership_2029_PCEP_noTransbay                0  \n",
       "4             Ridership_2029_PCEP                0  "
      ]
     },
     "execution_count": 3,
     "metadata": {},
     "output_type": "execute_result"
    }
   ],
   "source": [
    "riders.head()"
   ]
  },
  {
   "cell_type": "code",
   "execution_count": 4,
   "metadata": {},
   "outputs": [],
   "source": [
    "locs = pd.read_csv(\"../data/station_lat_lon_key.csv\")"
   ]
  },
  {
   "cell_type": "code",
   "execution_count": 6,
   "metadata": {},
   "outputs": [],
   "source": [
    "locs = locs.drop(columns=[\"nasty_station\"]).set_index(\"pretty_station\")"
   ]
  },
  {
   "cell_type": "code",
   "execution_count": 18,
   "metadata": {},
   "outputs": [],
   "source": [
    "data = riders.join(locs, on=\"Origin_Name\")"
   ]
  },
  {
   "cell_type": "code",
   "execution_count": 19,
   "metadata": {},
   "outputs": [],
   "source": [
    "data = data.join(locs, on=\"Dest_Name\", rsuffix=\"_dest\")"
   ]
  },
  {
   "cell_type": "code",
   "execution_count": 20,
   "metadata": {},
   "outputs": [
    {
     "data": {
      "text/html": [
       "<div>\n",
       "<style scoped>\n",
       "    .dataframe tbody tr th:only-of-type {\n",
       "        vertical-align: middle;\n",
       "    }\n",
       "\n",
       "    .dataframe tbody tr th {\n",
       "        vertical-align: top;\n",
       "    }\n",
       "\n",
       "    .dataframe thead th {\n",
       "        text-align: right;\n",
       "    }\n",
       "</style>\n",
       "<table border=\"1\" class=\"dataframe\">\n",
       "  <thead>\n",
       "    <tr style=\"text-align: right;\">\n",
       "      <th></th>\n",
       "      <th>TOD</th>\n",
       "      <th>Origin_ID</th>\n",
       "      <th>Origin_Name</th>\n",
       "      <th>Dest_ID</th>\n",
       "      <th>Dest_Name</th>\n",
       "      <th>Scenario</th>\n",
       "      <th>Ridership_Number</th>\n",
       "      <th>lat</th>\n",
       "      <th>lon</th>\n",
       "      <th>lat_dest</th>\n",
       "      <th>lon_dest</th>\n",
       "    </tr>\n",
       "  </thead>\n",
       "  <tbody>\n",
       "    <tr>\n",
       "      <th>0</th>\n",
       "      <td>ea</td>\n",
       "      <td>1</td>\n",
       "      <td>Transbay</td>\n",
       "      <td>1</td>\n",
       "      <td>Transbay</td>\n",
       "      <td>Ridership_2017_observed</td>\n",
       "      <td>0</td>\n",
       "      <td>37.789052</td>\n",
       "      <td>-122.397024</td>\n",
       "      <td>37.789052</td>\n",
       "      <td>-122.397024</td>\n",
       "    </tr>\n",
       "    <tr>\n",
       "      <th>1</th>\n",
       "      <td>ea</td>\n",
       "      <td>1</td>\n",
       "      <td>Transbay</td>\n",
       "      <td>1</td>\n",
       "      <td>Transbay</td>\n",
       "      <td>Ridership_2022_diesel</td>\n",
       "      <td>0</td>\n",
       "      <td>37.789052</td>\n",
       "      <td>-122.397024</td>\n",
       "      <td>37.789052</td>\n",
       "      <td>-122.397024</td>\n",
       "    </tr>\n",
       "    <tr>\n",
       "      <th>2</th>\n",
       "      <td>ea</td>\n",
       "      <td>1</td>\n",
       "      <td>Transbay</td>\n",
       "      <td>1</td>\n",
       "      <td>Transbay</td>\n",
       "      <td>Ridership_2022_PCEP</td>\n",
       "      <td>0</td>\n",
       "      <td>37.789052</td>\n",
       "      <td>-122.397024</td>\n",
       "      <td>37.789052</td>\n",
       "      <td>-122.397024</td>\n",
       "    </tr>\n",
       "    <tr>\n",
       "      <th>3</th>\n",
       "      <td>ea</td>\n",
       "      <td>1</td>\n",
       "      <td>Transbay</td>\n",
       "      <td>1</td>\n",
       "      <td>Transbay</td>\n",
       "      <td>Ridership_2029_PCEP_noTransbay</td>\n",
       "      <td>0</td>\n",
       "      <td>37.789052</td>\n",
       "      <td>-122.397024</td>\n",
       "      <td>37.789052</td>\n",
       "      <td>-122.397024</td>\n",
       "    </tr>\n",
       "    <tr>\n",
       "      <th>4</th>\n",
       "      <td>ea</td>\n",
       "      <td>1</td>\n",
       "      <td>Transbay</td>\n",
       "      <td>1</td>\n",
       "      <td>Transbay</td>\n",
       "      <td>Ridership_2029_PCEP</td>\n",
       "      <td>0</td>\n",
       "      <td>37.789052</td>\n",
       "      <td>-122.397024</td>\n",
       "      <td>37.789052</td>\n",
       "      <td>-122.397024</td>\n",
       "    </tr>\n",
       "  </tbody>\n",
       "</table>\n",
       "</div>"
      ],
      "text/plain": [
       "  TOD  Origin_ID Origin_Name  Dest_ID Dest_Name  \\\n",
       "0  ea          1    Transbay        1  Transbay   \n",
       "1  ea          1    Transbay        1  Transbay   \n",
       "2  ea          1    Transbay        1  Transbay   \n",
       "3  ea          1    Transbay        1  Transbay   \n",
       "4  ea          1    Transbay        1  Transbay   \n",
       "\n",
       "                         Scenario Ridership_Number        lat         lon  \\\n",
       "0         Ridership_2017_observed                0  37.789052 -122.397024   \n",
       "1           Ridership_2022_diesel                0  37.789052 -122.397024   \n",
       "2             Ridership_2022_PCEP                0  37.789052 -122.397024   \n",
       "3  Ridership_2029_PCEP_noTransbay                0  37.789052 -122.397024   \n",
       "4             Ridership_2029_PCEP                0  37.789052 -122.397024   \n",
       "\n",
       "    lat_dest    lon_dest  \n",
       "0  37.789052 -122.397024  \n",
       "1  37.789052 -122.397024  \n",
       "2  37.789052 -122.397024  \n",
       "3  37.789052 -122.397024  \n",
       "4  37.789052 -122.397024  "
      ]
     },
     "execution_count": 20,
     "metadata": {},
     "output_type": "execute_result"
    }
   ],
   "source": [
    "data.head()"
   ]
  },
  {
   "cell_type": "code",
   "execution_count": 21,
   "metadata": {},
   "outputs": [],
   "source": [
    "data = data.rename(columns={\"lat\":\"lat_origin\", \"lon\":\"lon_origin\"})"
   ]
  },
  {
   "cell_type": "code",
   "execution_count": 22,
   "metadata": {},
   "outputs": [],
   "source": [
    "data.to_csv(\"../data/Ridership/ridership_with_locs.csv\")"
   ]
  },
  {
   "cell_type": "code",
   "execution_count": null,
   "metadata": {},
   "outputs": [],
   "source": []
  }
 ],
 "metadata": {
  "kernelspec": {
   "display_name": "Python 3",
   "language": "python",
   "name": "python3"
  },
  "language_info": {
   "codemirror_mode": {
    "name": "ipython",
    "version": 3
   },
   "file_extension": ".py",
   "mimetype": "text/x-python",
   "name": "python",
   "nbconvert_exporter": "python",
   "pygments_lexer": "ipython3",
   "version": "3.6.6"
  }
 },
 "nbformat": 4,
 "nbformat_minor": 2
}
